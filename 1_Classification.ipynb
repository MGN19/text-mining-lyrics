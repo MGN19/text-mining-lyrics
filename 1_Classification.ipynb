{
 "cells": [
  {
   "cell_type": "markdown",
   "id": "471e2593",
   "metadata": {},
   "source": [
    "# Model"
   ]
  },
  {
   "cell_type": "markdown",
   "id": "5275cc4f",
   "metadata": {},
   "source": [
    "Done by:\n",
    "- Ana Farinha | 20211514\n",
    "- Ana Reis | 20211631\n",
    "- Beatriz Barreto | 20211547\n",
    "- Mariana Neto | 20211527"
   ]
  },
  {
   "cell_type": "markdown",
   "id": "331f179b",
   "metadata": {},
   "source": [
    "### <font color='#e0218a'>Table of Contents </font> <a class=\"anchor\" id='toc'></a> \n",
    "- [0. Import Libraries and Data](#P0)\n",
    "    - [Import Necessary Libraries](#P0.1)\n",
    "    - [Import Dataset](#P0.2)\n",
    "- [1. Training the model](#P1)\n",
    "    - [Grid Search](#P1.1)\n",
    "    - [Stratified K-Fold](#P1.2)\n",
    "        - [Results](#P1.2.1)\n",
    "        - [Confusion Matrix](#P1.2.2)\n",
    "        - [Classification Report](#P1.2.3)\n",
    "- [2. Predictions for Kaggle](#P2) \n",
    "    - [Preprocessing](#P2.1)\n",
    "- [3. Export Predictions](#P3) "
   ]
  },
  {
   "cell_type": "markdown",
   "id": "b86f7892",
   "metadata": {},
   "source": [
    "### <font color='#e0218a'>0. Import Libraries and Data</font> <a class=\"anchor\" id=\"P0\"></a>\n",
    "  [Back to TOC](#toc)\n",
    "  \n",
    "In this step we will import the necessary libaries, our shortcuts with the functions we made and the dataset."
   ]
  },
  {
   "cell_type": "markdown",
   "id": "66b26db5",
   "metadata": {},
   "source": [
    "### Import necessary libraries and shortcuts <a class=\"anchor\" id=\"P0.1\"></a>\n",
    "\n",
    "[Back to TOC](#toc)"
   ]
  },
  {
   "cell_type": "code",
   "execution_count": 1,
   "id": "5328265a",
   "metadata": {},
   "outputs": [],
   "source": [
    "# Import libraries\n",
    "import pandas as pd\n",
    "import numpy as np\n",
    "\n",
    "import re\n",
    "import matplotlib.pyplot as plt\n",
    "import seaborn as sns\n",
    "\n",
    "# Model\n",
    "from sklearn import metrics\n",
    "from sklearn.model_selection import StratifiedKFold\n",
    "from gensim.models.doc2vec import Doc2Vec, TaggedDocument\n",
    "from sklearn.linear_model import LogisticRegression\n",
    "from sklearn.metrics import f1_score, classification_report, confusion_matrix\n",
    "\n",
    "# Progress Bar\n",
    "from tqdm import tqdm\n",
    "tqdm.pandas()\n",
    "\n",
    "# Import preprocessing functions from shortcuts.py\n",
    "import shortcuts"
   ]
  },
  {
   "cell_type": "markdown",
   "id": "c25b0e8b",
   "metadata": {},
   "source": [
    "### Import dataset <a class=\"anchor\" id=\"P0.2\"></a>\n",
    "\n",
    "[Back to TOC](#toc)\n",
    "\n",
    "We will be using the dataset created during the preprocessing stage."
   ]
  },
  {
   "cell_type": "code",
   "execution_count": 2,
   "id": "e9846ecf",
   "metadata": {},
   "outputs": [],
   "source": [
    "# Define the path and import the dataset\n",
    "path = \"./data_updated/\""
   ]
  },
  {
   "cell_type": "code",
   "execution_count": 3,
   "id": "207a15f3",
   "metadata": {},
   "outputs": [
    {
     "data": {
      "text/html": [
       "<div>\n",
       "<style scoped>\n",
       "    .dataframe tbody tr th:only-of-type {\n",
       "        vertical-align: middle;\n",
       "    }\n",
       "\n",
       "    .dataframe tbody tr th {\n",
       "        vertical-align: top;\n",
       "    }\n",
       "\n",
       "    .dataframe thead th {\n",
       "        text-align: right;\n",
       "    }\n",
       "</style>\n",
       "<table border=\"1\" class=\"dataframe\">\n",
       "  <thead>\n",
       "    <tr style=\"text-align: right;\">\n",
       "      <th></th>\n",
       "      <th>title</th>\n",
       "      <th>tag</th>\n",
       "      <th>artist</th>\n",
       "      <th>year</th>\n",
       "      <th>views</th>\n",
       "      <th>features</th>\n",
       "      <th>lyrics</th>\n",
       "      <th>preprocessed_lyrics</th>\n",
       "      <th>sa_lyrics</th>\n",
       "    </tr>\n",
       "  </thead>\n",
       "  <tbody>\n",
       "    <tr>\n",
       "      <th>0</th>\n",
       "      <td>Walk Away</td>\n",
       "      <td>rock</td>\n",
       "      <td>Tony Molina</td>\n",
       "      <td>2013</td>\n",
       "      <td>699</td>\n",
       "      <td>{}</td>\n",
       "      <td>When you said you loved me\\nDid you mean it th...</td>\n",
       "      <td>said loved mean change mind day pretend walk a...</td>\n",
       "      <td>When you said you loved me Did you mean it the...</td>\n",
       "    </tr>\n",
       "    <tr>\n",
       "      <th>1</th>\n",
       "      <td>Gotta Make It Kid Naruto Rap</td>\n",
       "      <td>rap</td>\n",
       "      <td>Reece Lett</td>\n",
       "      <td>2021</td>\n",
       "      <td>4</td>\n",
       "      <td>{Sl!ck}</td>\n",
       "      <td>Kid Naruto Rap\\n\\nEverybody wants you to hurt\\...</td>\n",
       "      <td>kid naruto rap everybody wants hurt everybody ...</td>\n",
       "      <td>Kid Naruto Rap Everybody wants you to hurt Eve...</td>\n",
       "    </tr>\n",
       "    <tr>\n",
       "      <th>2</th>\n",
       "      <td>​this is what i asked for</td>\n",
       "      <td>pop</td>\n",
       "      <td>Elliot (DNK)</td>\n",
       "      <td>2019</td>\n",
       "      <td>389</td>\n",
       "      <td>{}</td>\n",
       "      <td>\\nPeople tell me I've changed\\nI find it hard ...</td>\n",
       "      <td>people tell changed find hard maybe feel make ...</td>\n",
       "      <td>People tell me I have changed I find it hard t...</td>\n",
       "    </tr>\n",
       "    <tr>\n",
       "      <th>3</th>\n",
       "      <td>Stealing Hearts</td>\n",
       "      <td>pop</td>\n",
       "      <td>Katie Armiger</td>\n",
       "      <td>2013</td>\n",
       "      <td>126</td>\n",
       "      <td>{}</td>\n",
       "      <td>You've been warned about me\\nDon't try to get ...</td>\n",
       "      <td>warned try get close want chain leave ghost to...</td>\n",
       "      <td>You have been warned about me Do not try to ge...</td>\n",
       "    </tr>\n",
       "    <tr>\n",
       "      <th>4</th>\n",
       "      <td>Get Ready</td>\n",
       "      <td>country</td>\n",
       "      <td>John Campbell Munro</td>\n",
       "      <td>1</td>\n",
       "      <td>2</td>\n",
       "      <td>{}</td>\n",
       "      <td>\\nI can see the end is coming but I've never l...</td>\n",
       "      <td>end coming never liked odds need way even deal...</td>\n",
       "      <td>I can see the end is coming but I have never l...</td>\n",
       "    </tr>\n",
       "    <tr>\n",
       "      <th>...</th>\n",
       "      <td>...</td>\n",
       "      <td>...</td>\n",
       "      <td>...</td>\n",
       "      <td>...</td>\n",
       "      <td>...</td>\n",
       "      <td>...</td>\n",
       "      <td>...</td>\n",
       "      <td>...</td>\n",
       "      <td>...</td>\n",
       "    </tr>\n",
       "    <tr>\n",
       "      <th>133238</th>\n",
       "      <td>Manhattan</td>\n",
       "      <td>pop</td>\n",
       "      <td>Tijuana Sweetheart</td>\n",
       "      <td>2007</td>\n",
       "      <td>48</td>\n",
       "      <td>{}</td>\n",
       "      <td>If I knew when I was young that I'd be older\\n...</td>\n",
       "      <td>knew young would older many things would told ...</td>\n",
       "      <td>If I knew when I was young that I would be old...</td>\n",
       "    </tr>\n",
       "    <tr>\n",
       "      <th>133239</th>\n",
       "      <td>Belly Shit</td>\n",
       "      <td>rap</td>\n",
       "      <td>Lil Gotit</td>\n",
       "      <td>2019</td>\n",
       "      <td>3593</td>\n",
       "      <td>{\"Lil Troup\"}</td>\n",
       "      <td>\\nCash\\nWah-wah-wah\\nWah-wah-wah\\nEverything i...</td>\n",
       "      <td>cash wah wah wah wah wah wah everything chrome...</td>\n",
       "      <td>Cash Wah wah wah Wah wah wah Everything is chr...</td>\n",
       "    </tr>\n",
       "    <tr>\n",
       "      <th>133240</th>\n",
       "      <td>The Four Loves</td>\n",
       "      <td>rock</td>\n",
       "      <td>Heath McNease</td>\n",
       "      <td>2014</td>\n",
       "      <td>301</td>\n",
       "      <td>{}</td>\n",
       "      <td>\\nI was born inside a home\\nThe youngest of th...</td>\n",
       "      <td>born inside home youngest three boys fought da...</td>\n",
       "      <td>I was born inside a home The youngest of the t...</td>\n",
       "    </tr>\n",
       "    <tr>\n",
       "      <th>133241</th>\n",
       "      <td>Ball And Chain</td>\n",
       "      <td>pop</td>\n",
       "      <td>Transmatic</td>\n",
       "      <td>2001</td>\n",
       "      <td>46</td>\n",
       "      <td>{}</td>\n",
       "      <td>Rollin' by the pool the falling stars are not ...</td>\n",
       "      <td>rollin pool falling stars condescending twins ...</td>\n",
       "      <td>Rollin' by the pool the falling stars are not ...</td>\n",
       "    </tr>\n",
       "    <tr>\n",
       "      <th>133242</th>\n",
       "      <td>It Aint Epic Enough</td>\n",
       "      <td>rap</td>\n",
       "      <td>TheGodlyRiskTakers</td>\n",
       "      <td>2020</td>\n",
       "      <td>6</td>\n",
       "      <td>{}</td>\n",
       "      <td>\\nYeah Epic Games, I ain't playin' no games\\nN...</td>\n",
       "      <td>yeah epic games playin games set record straig...</td>\n",
       "      <td>Yeah Epic Games, i am not playin' no games Now...</td>\n",
       "    </tr>\n",
       "  </tbody>\n",
       "</table>\n",
       "<p>133243 rows × 9 columns</p>\n",
       "</div>"
      ],
      "text/plain": [
       "                               title      tag               artist  year  \\\n",
       "0                          Walk Away     rock          Tony Molina  2013   \n",
       "1       Gotta Make It Kid Naruto Rap      rap           Reece Lett  2021   \n",
       "2          ​this is what i asked for      pop         Elliot (DNK)  2019   \n",
       "3                    Stealing Hearts      pop        Katie Armiger  2013   \n",
       "4                          Get Ready  country  John Campbell Munro     1   \n",
       "...                              ...      ...                  ...   ...   \n",
       "133238                     Manhattan      pop   Tijuana Sweetheart  2007   \n",
       "133239                    Belly Shit      rap            Lil Gotit  2019   \n",
       "133240                The Four Loves     rock        Heath McNease  2014   \n",
       "133241                Ball And Chain      pop           Transmatic  2001   \n",
       "133242           It Aint Epic Enough      rap   TheGodlyRiskTakers  2020   \n",
       "\n",
       "        views       features  \\\n",
       "0         699             {}   \n",
       "1           4        {Sl!ck}   \n",
       "2         389             {}   \n",
       "3         126             {}   \n",
       "4           2             {}   \n",
       "...       ...            ...   \n",
       "133238     48             {}   \n",
       "133239   3593  {\"Lil Troup\"}   \n",
       "133240    301             {}   \n",
       "133241     46             {}   \n",
       "133242      6             {}   \n",
       "\n",
       "                                                   lyrics  \\\n",
       "0       When you said you loved me\\nDid you mean it th...   \n",
       "1       Kid Naruto Rap\\n\\nEverybody wants you to hurt\\...   \n",
       "2       \\nPeople tell me I've changed\\nI find it hard ...   \n",
       "3       You've been warned about me\\nDon't try to get ...   \n",
       "4       \\nI can see the end is coming but I've never l...   \n",
       "...                                                   ...   \n",
       "133238  If I knew when I was young that I'd be older\\n...   \n",
       "133239  \\nCash\\nWah-wah-wah\\nWah-wah-wah\\nEverything i...   \n",
       "133240  \\nI was born inside a home\\nThe youngest of th...   \n",
       "133241  Rollin' by the pool the falling stars are not ...   \n",
       "133242  \\nYeah Epic Games, I ain't playin' no games\\nN...   \n",
       "\n",
       "                                      preprocessed_lyrics  \\\n",
       "0       said loved mean change mind day pretend walk a...   \n",
       "1       kid naruto rap everybody wants hurt everybody ...   \n",
       "2       people tell changed find hard maybe feel make ...   \n",
       "3       warned try get close want chain leave ghost to...   \n",
       "4       end coming never liked odds need way even deal...   \n",
       "...                                                   ...   \n",
       "133238  knew young would older many things would told ...   \n",
       "133239  cash wah wah wah wah wah wah everything chrome...   \n",
       "133240  born inside home youngest three boys fought da...   \n",
       "133241  rollin pool falling stars condescending twins ...   \n",
       "133242  yeah epic games playin games set record straig...   \n",
       "\n",
       "                                                sa_lyrics  \n",
       "0       When you said you loved me Did you mean it the...  \n",
       "1       Kid Naruto Rap Everybody wants you to hurt Eve...  \n",
       "2       People tell me I have changed I find it hard t...  \n",
       "3       You have been warned about me Do not try to ge...  \n",
       "4       I can see the end is coming but I have never l...  \n",
       "...                                                   ...  \n",
       "133238  If I knew when I was young that I would be old...  \n",
       "133239  Cash Wah wah wah Wah wah wah Everything is chr...  \n",
       "133240  I was born inside a home The youngest of the t...  \n",
       "133241  Rollin' by the pool the falling stars are not ...  \n",
       "133242  Yeah Epic Games, i am not playin' no games Now...  \n",
       "\n",
       "[133243 rows x 9 columns]"
      ]
     },
     "execution_count": 3,
     "metadata": {},
     "output_type": "execute_result"
    }
   ],
   "source": [
    "train_data = pd.read_csv(path + \"preprocesssed_data.csv\")\n",
    "train_data"
   ]
  },
  {
   "cell_type": "markdown",
   "id": "50d721c3",
   "metadata": {},
   "source": [
    "### <font color='#e0218a'>1. Training the model</font> <a class=\"anchor\" id=\"P1\"></a>\n",
    "  [Back to TOC](#toc)\n",
    "\n",
    "This next step involves training our model. To do so, we started by trying different combinations of feature extraction and classification models. For feature extraction, we tried using Bag of Words, TF-IDF and word embeddings such as Word2Vec and Doc2Vec. As for classification models, we used Logistic Regression, MultinnomialNB, Decision Trees, Random Forests and neural networks. Below, is the grid search for the combination that resulted in the best f1-score."
   ]
  },
  {
   "cell_type": "markdown",
   "id": "8056e1e9",
   "metadata": {},
   "source": [
    "### Grid Searh <a class=\"anchor\" id=\"P1.1\"></a>\n",
    "\n",
    "[Back to TOC](#toc)\n",
    "\n",
    "Here is the grid search using Doc2Vec as feature extraction and Logistic Regression as classification model."
   ]
  },
  {
   "cell_type": "code",
   "execution_count": 4,
   "id": "aa67e313",
   "metadata": {},
   "outputs": [
    {
     "data": {
      "text/plain": [
       "'\\nfrom gensim.models.doc2vec import Doc2Vec, TaggedDocument\\nfrom sklearn.model_selection import GridSearchCV\\nfrom sklearn.linear_model import LogisticRegression\\nfrom sklearn.model_selection import StratifiedKFold\\nfrom sklearn.model_selection import train_test_split\\n\\n# Train Test split\\nX_train, X_test, y_train, y_test = train_test_split(train_data[\\'preprocessed_lyrics\\'], train_data[\\'tag\\'], test_size=0.2, random_state=42)\\n\\n# Tagging documents\\ntagged_data = [TaggedDocument(words=doc.split(), tags=[str(i)]) for i, doc in enumerate(X_train)]\\n\\n# Training Doc2Vec model\\nmodel = Doc2Vec(vector_size=300, window=5, min_count=1, workers=4, epochs=20)\\nmodel.build_vocab(tagged_data)\\nmodel.train(tagged_data, total_examples=model.corpus_count, epochs=model.epochs)\\n\\n# Generate vectors for training and testing sets\\nX_train_vectors = shortcuts.infer_vectors(model, X_train)\\nX_test_vectors = shortcuts.infer_vectors(model, X_test)\\n\\n\\n# Define the parameter grid\\nparam_grid = {\\n    \\'C\\': [0.001, 0.01, 0.1, 1, 10, 100],  # regularization strength\\n    \\'penalty\\': [\\'l1\\', \\'l2\\'],  # penalty type\\n    \\'solver\\': [\\'liblinear\\', \\'saga\\']  # solver algorithm\\n}\\n\\n# Initialize logistic regression model\\nlogreg_model = LogisticRegression(max_iter=1000)\\n\\n# Initialize StratifiedKFold for cross-validation\\ncv = StratifiedKFold(n_splits=5, shuffle=True, random_state=42)\\n\\n# Initialize GridSearchCV with F1 score as the scoring metric\\ngrid_search = GridSearchCV(logreg_model, param_grid, cv, cv scoring=\\'f1_weighted\\')\\n\\n# Fit the grid search to the data\\ngrid_search.fit(X_train_vectors, y_train)\\n\\n# Print the best hyperparameters found\\nprint(\"Best hyperparameters:\", grid_search.best_params_)\\n\\n# Get the best model\\nbest_model = grid_search.best_estimator_\\n'"
      ]
     },
     "execution_count": 4,
     "metadata": {},
     "output_type": "execute_result"
    }
   ],
   "source": [
    "# Grid search\n",
    "'''\n",
    "from gensim.models.doc2vec import Doc2Vec, TaggedDocument\n",
    "from sklearn.model_selection import GridSearchCV\n",
    "from sklearn.linear_model import LogisticRegression\n",
    "from sklearn.model_selection import StratifiedKFold\n",
    "from sklearn.model_selection import train_test_split\n",
    "\n",
    "# Train Test split\n",
    "X_train, X_test, y_train, y_test = train_test_split(train_data['preprocessed_lyrics'], train_data['tag'], test_size=0.2, random_state=42)\n",
    "\n",
    "# Tagging documents\n",
    "tagged_data = [TaggedDocument(words=doc.split(), tags=[str(i)]) for i, doc in enumerate(X_train)]\n",
    "\n",
    "# Training Doc2Vec model\n",
    "model = Doc2Vec(vector_size=300, window=5, min_count=1, workers=4, epochs=20)\n",
    "model.build_vocab(tagged_data)\n",
    "model.train(tagged_data, total_examples=model.corpus_count, epochs=model.epochs)\n",
    "\n",
    "# Generate vectors for training and testing sets\n",
    "X_train_vectors = shortcuts.infer_vectors(model, X_train)\n",
    "X_test_vectors = shortcuts.infer_vectors(model, X_test)\n",
    "\n",
    "\n",
    "# Define the parameter grid\n",
    "param_grid = {\n",
    "    'C': [0.001, 0.01, 0.1, 1, 10, 100],  # regularization strength\n",
    "    'penalty': ['l1', 'l2'],  # penalty type\n",
    "    'solver': ['liblinear', 'saga']  # solver algorithm\n",
    "}\n",
    "\n",
    "# Initialize logistic regression model\n",
    "logreg_model = LogisticRegression(max_iter=1000)\n",
    "\n",
    "# Initialize StratifiedKFold for cross-validation\n",
    "cv = StratifiedKFold(n_splits=5, shuffle=True, random_state=42)\n",
    "\n",
    "# Initialize GridSearchCV with F1 score as the scoring metric\n",
    "grid_search = GridSearchCV(logreg_model, param_grid, cv, cv scoring='f1_weighted')\n",
    "\n",
    "# Fit the grid search to the data\n",
    "grid_search.fit(X_train_vectors, y_train)\n",
    "\n",
    "# Print the best hyperparameters found\n",
    "print(\"Best hyperparameters:\", grid_search.best_params_)\n",
    "\n",
    "# Get the best model\n",
    "best_model = grid_search.best_estimator_\n",
    "'''"
   ]
  },
  {
   "cell_type": "markdown",
   "id": "af869cfd",
   "metadata": {},
   "source": [
    "Best parameters from the grid search above: {'C': 10, 'penalty': 'l1', 'solver': 'saga'}"
   ]
  },
  {
   "cell_type": "markdown",
   "id": "14d15650",
   "metadata": {},
   "source": [
    "### Stratified K-Fold <a class=\"anchor\" id=\"P1.2\"></a>\n",
    "\n",
    "[Back to TOC](#toc)\n",
    "\n",
    "Below, we train our model using stratified k-fold and the best parameters given by our grid search."
   ]
  },
  {
   "cell_type": "code",
   "execution_count": 5,
   "id": "64905aa2",
   "metadata": {},
   "outputs": [],
   "source": [
    "# Data\n",
    "X = train_data['preprocessed_lyrics']\n",
    "y = train_data['tag']\n",
    "\n",
    "# Initialize StratifiedKFold\n",
    "skf = StratifiedKFold(n_splits=5, random_state=42, shuffle=True)\n",
    "\n",
    "overall_score_columns = [\"accuracy\",\"precision\",\"recall\",\"f1\"]\n",
    "overall_score_data = []\n",
    "predictions_data = []\n",
    "\n",
    "for train_index, val_index in skf.split(X, y):\n",
    "    # Split train an validation data\n",
    "    X_train, X_val = X[train_index], X[val_index]\n",
    "    y_train, y_val = y.iloc[train_index], y.iloc[val_index]\n",
    "\n",
    "    # Tagging documents\n",
    "    tagged_data = [TaggedDocument(words=doc.split(), tags=[str(i)]) for i, doc in enumerate(X_train)]\n",
    "\n",
    "    # Initialize the Doc2Vec model\n",
    "    model = Doc2Vec(vector_size=300, window=5, min_count=1, workers=4, epochs=10)\n",
    "\n",
    "    # Training Doc2Vec model\n",
    "    model.build_vocab(tagged_data)\n",
    "    model.train(tagged_data, total_examples=model.corpus_count, epochs=model.epochs)\n",
    "\n",
    "    # Generate vectors for training and testing sets\n",
    "    X_train_vectors = shortcuts.infer_vectors(model, X_train)\n",
    "    X_val_vectors = shortcuts.infer_vectors(model, X_val)\n",
    "\n",
    "    # Initialize and train the logistic regression model\n",
    "    logreg_model = LogisticRegression(max_iter=1000, C =  10, penalty = 'l1', solver = 'saga')\n",
    "    logreg_model.fit(X_train_vectors, y_train)\n",
    "\n",
    "    # Predictions on the test set\n",
    "    y_pred = logreg_model.predict(X_val_vectors)\n",
    "\n",
    "    fold_score = list(shortcuts.fold_score_calculator(y_pred, y_val))\n",
    "    overall_score_data.append(fold_score)\n",
    "        \n",
    "    # Store predictions and corresponding indices in a DataFrame\n",
    "    fold_predictions = pd.DataFrame({\n",
    "        'ValIndex': val_index,\n",
    "        'Prediction': y_pred\n",
    "        })\n",
    "    predictions_data.append(fold_predictions)\n",
    "\n",
    "scores_df = pd.DataFrame(overall_score_data, columns=overall_score_columns)\n",
    "predictions_df = pd.concat(predictions_data, ignore_index=True)\n"
   ]
  },
  {
   "cell_type": "markdown",
   "id": "3009477d",
   "metadata": {},
   "source": [
    "#### Results <a class=\"anchor\" id=\"P1.2.1\"></a>\n",
    "\n",
    "[Back to TOC](#toc)\n",
    "\n",
    "Following, we have the scores given by our stratified k-fold. In our case, the data is imbanlanced so we are guiding ourselves by the f1-score."
   ]
  },
  {
   "cell_type": "code",
   "execution_count": 6,
   "id": "83148426",
   "metadata": {},
   "outputs": [
    {
     "data": {
      "text/html": [
       "<div>\n",
       "<style scoped>\n",
       "    .dataframe tbody tr th:only-of-type {\n",
       "        vertical-align: middle;\n",
       "    }\n",
       "\n",
       "    .dataframe tbody tr th {\n",
       "        vertical-align: top;\n",
       "    }\n",
       "\n",
       "    .dataframe thead th {\n",
       "        text-align: right;\n",
       "    }\n",
       "</style>\n",
       "<table border=\"1\" class=\"dataframe\">\n",
       "  <thead>\n",
       "    <tr style=\"text-align: right;\">\n",
       "      <th></th>\n",
       "      <th>accuracy</th>\n",
       "      <th>precision</th>\n",
       "      <th>recall</th>\n",
       "      <th>f1</th>\n",
       "    </tr>\n",
       "  </thead>\n",
       "  <tbody>\n",
       "    <tr>\n",
       "      <th>0</th>\n",
       "      <td>0.646591</td>\n",
       "      <td>0.625073</td>\n",
       "      <td>0.646591</td>\n",
       "      <td>0.609897</td>\n",
       "    </tr>\n",
       "    <tr>\n",
       "      <th>1</th>\n",
       "      <td>0.647004</td>\n",
       "      <td>0.622927</td>\n",
       "      <td>0.647004</td>\n",
       "      <td>0.608942</td>\n",
       "    </tr>\n",
       "    <tr>\n",
       "      <th>2</th>\n",
       "      <td>0.647567</td>\n",
       "      <td>0.627804</td>\n",
       "      <td>0.647567</td>\n",
       "      <td>0.611585</td>\n",
       "    </tr>\n",
       "    <tr>\n",
       "      <th>3</th>\n",
       "      <td>0.645039</td>\n",
       "      <td>0.623869</td>\n",
       "      <td>0.645039</td>\n",
       "      <td>0.607315</td>\n",
       "    </tr>\n",
       "    <tr>\n",
       "      <th>4</th>\n",
       "      <td>0.644138</td>\n",
       "      <td>0.620321</td>\n",
       "      <td>0.644138</td>\n",
       "      <td>0.607666</td>\n",
       "    </tr>\n",
       "  </tbody>\n",
       "</table>\n",
       "</div>"
      ],
      "text/plain": [
       "   accuracy  precision    recall        f1\n",
       "0  0.646591   0.625073  0.646591  0.609897\n",
       "1  0.647004   0.622927  0.647004  0.608942\n",
       "2  0.647567   0.627804  0.647567  0.611585\n",
       "3  0.645039   0.623869  0.645039  0.607315\n",
       "4  0.644138   0.620321  0.644138  0.607666"
      ]
     },
     "execution_count": 6,
     "metadata": {},
     "output_type": "execute_result"
    }
   ],
   "source": [
    "scores_df"
   ]
  },
  {
   "cell_type": "markdown",
   "id": "c2ebd7b0",
   "metadata": {},
   "source": [
    "Above, we can see that our f1-score is between 0.606 and 0.609 which means that our model's performance is stable when dealing with imbalanced data."
   ]
  },
  {
   "cell_type": "code",
   "execution_count": 7,
   "id": "6f50a4ff",
   "metadata": {},
   "outputs": [
    {
     "data": {
      "text/plain": [
       "accuracy     0.646068\n",
       "precision    0.623999\n",
       "recall       0.646068\n",
       "f1           0.609081\n",
       "dtype: float64"
      ]
     },
     "execution_count": 7,
     "metadata": {},
     "output_type": "execute_result"
    }
   ],
   "source": [
    "scores_df.mean()"
   ]
  },
  {
   "cell_type": "markdown",
   "id": "71e9bf97",
   "metadata": {},
   "source": [
    "The average of the f1-score from all fold is 0.609."
   ]
  },
  {
   "cell_type": "markdown",
   "id": "967b70a7",
   "metadata": {},
   "source": [
    "#### Confusion Matrix<a class=\"anchor\" id=\"P1.2.2\"></a>\n",
    "\n",
    "[Back to TOC](#toc)\n",
    "\n",
    "Here, we have the confusion matrix for the last trained model."
   ]
  },
  {
   "cell_type": "code",
   "execution_count": 8,
   "id": "fd60c91f",
   "metadata": {},
   "outputs": [
    {
     "data": {
      "image/png": "[encoded data removed]",
      "text/plain": [
       "<Figure size 800x600 with 2 Axes>"
      ]
     },
     "metadata": {},
     "output_type": "display_data"
    }
   ],
   "source": [
    "# Calculate a confusion matrix\n",
    "cm = confusion_matrix(y_val, y_pred)\n",
    "song_tags = np.unique(y_val)\n",
    "\n",
    "# Define the colormap\n",
    "colormap = sns.color_palette(\"blend:#f4c1d6,#e0218a\", as_cmap=True)\n",
    "\n",
    "# Create a heatmap\n",
    "plt.figure(figsize=(8, 6))\n",
    "sns.heatmap(cm, annot=True, fmt=\"d\", cmap=colormap, linewidths=.5, square=True, cbar_kws={\"shrink\": 0.8}, annot_kws={\"size\": 16})\n",
    "\n",
    "# Set axis labels using class names\n",
    "plt.xlabel('Predicted labels')\n",
    "plt.ylabel('True labels')\n",
    "plt.xticks(ticks=range(len(song_tags)), labels=song_tags)\n",
    "plt.yticks(ticks=range(len(song_tags)), labels=song_tags, rotation=0)\n",
    "\n",
    "# Show the plot\n",
    "plt.show()"
   ]
  },
  {
   "cell_type": "markdown",
   "id": "73e964a7",
   "metadata": {},
   "source": [
    "In the confusion matrix above we can take the following conclusions:\n",
    " - Most of the 'rock' songs were wronfully predicted as 'pop'.\n",
    " - 'pop' and 'rap' were the genres were our prediction was more accurate.\n",
    " - Most of the wrongfully predicted 'tag' were predicted as 'pop'."
   ]
  },
  {
   "cell_type": "markdown",
   "id": "73f69323",
   "metadata": {},
   "source": [
    "#### Classification Report <a class=\"anchor\" id=\"P1.2.3\"></a>\n",
    "\n",
    "[Back to TOC](#toc)\n",
    "\n",
    "Below, we have the classification report of the last model we trained."
   ]
  },
  {
   "cell_type": "code",
   "execution_count": 9,
   "id": "d1b19c01",
   "metadata": {},
   "outputs": [
    {
     "name": "stdout",
     "output_type": "stream",
     "text": [
      "              precision    recall  f1-score   support\n",
      "\n",
      "     country       0.40      0.12      0.18       693\n",
      "        misc       0.57      0.32      0.41       784\n",
      "         pop       0.59      0.83      0.69     11149\n",
      "         rap       0.82      0.83      0.82      7716\n",
      "          rb       0.34      0.07      0.11      1240\n",
      "        rock       0.49      0.23      0.31      5066\n",
      "\n",
      "    accuracy                           0.64     26648\n",
      "   macro avg       0.53      0.40      0.42     26648\n",
      "weighted avg       0.62      0.64      0.61     26648\n",
      "\n"
     ]
    }
   ],
   "source": [
    "# Classification report\n",
    "print(metrics.classification_report(y_val, y_pred))"
   ]
  },
  {
   "cell_type": "markdown",
   "id": "ef6a01ec",
   "metadata": {},
   "source": [
    "From the classification report, we take the following conclusions:\n",
    " - The f1-score is 0.61%.\n",
    " - The model performs relatively well on the 'pop' class with high precision, recall, and f1-score.\n",
    " - The 'rap' class also shows strong performance, with high precision, recall, and f1-score.\n",
    " - The 'rock' class has lower precision, recall, and F1-score, indicating that the model struggles more with this class."
   ]
  },
  {
   "cell_type": "markdown",
   "id": "2f5e27cb",
   "metadata": {},
   "source": [
    "### <font color='#e0218a'>2. Predictions for Kaggle</font> <a class=\"anchor\" id=\"P2\"></a>\n",
    "  [Back to TOC](#toc)\n",
    "\n",
    "  Below, we predict the 'tag' of the test data using our newly trained model."
   ]
  },
  {
   "cell_type": "markdown",
   "id": "77781b53",
   "metadata": {},
   "source": [
    "### Preprocessing <a class=\"anchor\" id=\"P2.1\"></a>\n",
    "\n",
    "[Back to TOC](#toc)\n",
    "\n",
    "Our first step is to import the data and apply to it the same steps that the train data went through."
   ]
  },
  {
   "cell_type": "code",
   "execution_count": 10,
   "id": "5b2fbd80",
   "metadata": {},
   "outputs": [],
   "source": [
    "# True if data is already preprocessed\n",
    "pre_proc_test = False"
   ]
  },
  {
   "cell_type": "code",
   "execution_count": 11,
   "id": "3d6a666c",
   "metadata": {},
   "outputs": [
    {
     "name": "stderr",
     "output_type": "stream",
     "text": [
      "100%|██████████| 33742/33742 [00:53<00:00, 635.45it/s]\n"
     ]
    }
   ],
   "source": [
    "if pre_proc_test:\n",
    "    test_df = pd.read_csv(path + \"test_preproc.csv\")\n",
    "    # Set the 'id' column as the index\n",
    "    test_df.set_index(\"id\", inplace=True)\n",
    "else:\n",
    "    test_df = pd.read_csv(path + \"test.csv\")\n",
    "    # Set the 'id' column as the index\n",
    "    test_df.set_index(\"id\", inplace=True)\n",
    "    shortcuts.extract_and_remove_square_brackets(test_df, 'lyrics', False)\n",
    "    # remove round brackets but not text within\n",
    "    train_data['lyrics'] = train_data['lyrics'].map(lambda s: re.sub(r'\\(|\\)', '', s))\n",
    "    train_data['lyrics'] = train_data['lyrics'].apply(lambda content: shortcuts.apostrophe_substitution(content))\n",
    "    # Lowercase, remove ponctuation, remove stopwords, correct spelling, lemmatization, tokenization \n",
    "    test_df['preprocessed_lyrics'] = test_df['lyrics'].progress_apply(lambda content: shortcuts.preprocessor(content,\n",
    "                                                                                                            lowercase=True, \n",
    "                                                                                                            leave_punctuation = False, \n",
    "                                                                                                            remove_stopwords = True,\n",
    "                                                                                                            correct_spelling = False, \n",
    "                                                                                                            lemmatization=False, \n",
    "                                                                                                            tokenized_output=False, \n",
    "                                                                                                            sentence_output=False\n",
    "                                                                                                            ))\n",
    "    test_df.to_csv(path + 'test_preproc.csv',index=True)"
   ]
  },
  {
   "cell_type": "code",
   "execution_count": 12,
   "id": "1a72a30d",
   "metadata": {},
   "outputs": [],
   "source": [
    "# Generate vectors for the test set\n",
    "X_test_vectors = shortcuts.infer_vectors(model, test_df['preprocessed_lyrics'])"
   ]
  },
  {
   "cell_type": "markdown",
   "id": "4332b59e",
   "metadata": {},
   "source": [
    "### Predictions <a class=\"anchor\" id=\"P2.2\"></a>\n",
    "\n",
    "[Back to TOC](#toc)\n",
    "\n",
    "Below, we predict the 'tag' for our test data, associate with the respective 'id' and create a new dataframe for the Kaggle competition."
   ]
  },
  {
   "cell_type": "code",
   "execution_count": 13,
   "id": "9be3609e",
   "metadata": {},
   "outputs": [],
   "source": [
    "# Predictions on the test set\n",
    "y_pred = logreg_model.predict(X_test_vectors)\n",
    "test_index = list(test_df.index)"
   ]
  },
  {
   "cell_type": "code",
   "execution_count": 14,
   "id": "c1d0b97e",
   "metadata": {},
   "outputs": [
    {
     "data": {
      "text/html": [
       "<div>\n",
       "<style scoped>\n",
       "    .dataframe tbody tr th:only-of-type {\n",
       "        vertical-align: middle;\n",
       "    }\n",
       "\n",
       "    .dataframe tbody tr th {\n",
       "        vertical-align: top;\n",
       "    }\n",
       "\n",
       "    .dataframe thead th {\n",
       "        text-align: right;\n",
       "    }\n",
       "</style>\n",
       "<table border=\"1\" class=\"dataframe\">\n",
       "  <thead>\n",
       "    <tr style=\"text-align: right;\">\n",
       "      <th></th>\n",
       "      <th>id</th>\n",
       "      <th>tag</th>\n",
       "    </tr>\n",
       "  </thead>\n",
       "  <tbody>\n",
       "    <tr>\n",
       "      <th>0</th>\n",
       "      <td>3996359</td>\n",
       "      <td>pop</td>\n",
       "    </tr>\n",
       "    <tr>\n",
       "      <th>1</th>\n",
       "      <td>3553166</td>\n",
       "      <td>rock</td>\n",
       "    </tr>\n",
       "    <tr>\n",
       "      <th>2</th>\n",
       "      <td>2998742</td>\n",
       "      <td>pop</td>\n",
       "    </tr>\n",
       "    <tr>\n",
       "      <th>3</th>\n",
       "      <td>3993470</td>\n",
       "      <td>rap</td>\n",
       "    </tr>\n",
       "    <tr>\n",
       "      <th>4</th>\n",
       "      <td>5488256</td>\n",
       "      <td>pop</td>\n",
       "    </tr>\n",
       "    <tr>\n",
       "      <th>...</th>\n",
       "      <td>...</td>\n",
       "      <td>...</td>\n",
       "    </tr>\n",
       "    <tr>\n",
       "      <th>33737</th>\n",
       "      <td>1149534</td>\n",
       "      <td>pop</td>\n",
       "    </tr>\n",
       "    <tr>\n",
       "      <th>33738</th>\n",
       "      <td>2473358</td>\n",
       "      <td>rap</td>\n",
       "    </tr>\n",
       "    <tr>\n",
       "      <th>33739</th>\n",
       "      <td>5254514</td>\n",
       "      <td>pop</td>\n",
       "    </tr>\n",
       "    <tr>\n",
       "      <th>33740</th>\n",
       "      <td>1646153</td>\n",
       "      <td>pop</td>\n",
       "    </tr>\n",
       "    <tr>\n",
       "      <th>33741</th>\n",
       "      <td>7747854</td>\n",
       "      <td>pop</td>\n",
       "    </tr>\n",
       "  </tbody>\n",
       "</table>\n",
       "<p>33742 rows × 2 columns</p>\n",
       "</div>"
      ],
      "text/plain": [
       "            id   tag\n",
       "0      3996359   pop\n",
       "1      3553166  rock\n",
       "2      2998742   pop\n",
       "3      3993470   rap\n",
       "4      5488256   pop\n",
       "...        ...   ...\n",
       "33737  1149534   pop\n",
       "33738  2473358   rap\n",
       "33739  5254514   pop\n",
       "33740  1646153   pop\n",
       "33741  7747854   pop\n",
       "\n",
       "[33742 rows x 2 columns]"
      ]
     },
     "execution_count": 14,
     "metadata": {},
     "output_type": "execute_result"
    }
   ],
   "source": [
    "# Create a new dataframe with our predictions\n",
    "submission_df = pd.DataFrame({'id': test_index, 'tag': y_pred})\n",
    "submission_df"
   ]
  },
  {
   "cell_type": "markdown",
   "id": "4c72d47c",
   "metadata": {},
   "source": [
    "### <font color='#e0218a'>3. Export our predictions</font> <a class=\"anchor\" id=\"P3\"></a>\n",
    "  [Back to TOC](#toc)\n",
    "\n",
    "  Our last step is to export our new dataframe to submit on Kaggle."
   ]
  },
  {
   "cell_type": "code",
   "execution_count": 15,
   "id": "e2cf6a66",
   "metadata": {},
   "outputs": [],
   "source": [
    "submission_df.to_csv('Group05__Versionxx.csv', index=False)"
   ]
  }
 ],
 "metadata": {
  "kernelspec": {
   "display_name": "Python 3 (ipykernel)",
   "language": "python",
   "name": "python3"
  },
  "language_info": {
   "codemirror_mode": {
    "name": "ipython",
    "version": 3
   },
   "file_extension": ".py",
   "mimetype": "text/x-python",
   "name": "python",
   "nbconvert_exporter": "python",
   "pygments_lexer": "ipython3",
   "version": "3.10.13"
  }
 },
 "nbformat": 4,
 "nbformat_minor": 5
}
